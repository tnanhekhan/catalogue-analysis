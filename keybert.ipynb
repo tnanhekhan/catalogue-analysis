{
 "cells": [
  {
   "cell_type": "markdown",
   "metadata": {},
   "source": [
    "https://huggingface.co/thearod5/bert4re\n",
    "\n",
    "https://ieeexplore.ieee.org/document/9920081"
   ]
  },
  {
   "cell_type": "code",
   "metadata": {},
   "source": [
    "import pandas as pd\n",
    "import os\n",
    "import re\n",
    "from keybert import KeyBERT\n",
    "import matplotlib.pyplot as plt\n",
    "\n"
   ],
   "outputs": [],
   "execution_count": null
  },
  {
   "cell_type": "code",
   "metadata": {},
   "source": [
    "data_folder = 'data/'\n",
    "\n",
    "model = KeyBERT()"
   ],
   "outputs": [],
   "execution_count": null
  },
  {
   "cell_type": "code",
   "metadata": {},
   "source": [
    "def clean_text(text):\n",
    "    text = re.sub(r'\\W', ' ', text)  \n",
    "    text = re.sub(r'\\s+', ' ', text).strip()  \n",
    "    return text.lower()\n"
   ],
   "outputs": [],
   "execution_count": null
  },
  {
   "cell_type": "code",
   "metadata": {},
   "source": [
    "# Create an empty dictionary to store the keyword results for each year\n",
    "all_keywords_by_year = {1: {}, 2: {}, 3: {}, 4: {}, 5: {}}\n",
    "\n",
    "data_folder = 'data'\n",
    "\n",
    "# Loop through each CSV file in the data folder\n",
    "for filename in os.listdir(data_folder):\n",
    "    if filename.endswith(\".csv\"):\n",
    "        year = filename.split('.')[0]\n",
    "        \n",
    "        # Load the CSV file\n",
    "        file_path = os.path.join(data_folder, filename)\n",
    "        df = pd.read_csv(file_path)\n",
    "        \n",
    "        # Ensure all values in the 'Content' column are strings (replace non-strings like NaN)\n",
    "        df['Content'] = df['Content'].fillna('').astype(str)\n",
    "        \n",
    "        # Clean the 'Content' column\n",
    "        df['cleaned_content'] = df['Content'].apply(clean_text)\n",
    "\n",
    "        # Extract keywords for 1-5 word phrases\n",
    "        for n in range(1, 6):\n",
    "            df['keywords'] = df['cleaned_content'].apply(lambda x: model.extract_keywords(\n",
    "                x, keyphrase_ngram_range=(n, n), stop_words='english', use_maxsum=True, nr_candidates=20, top_n=5\n",
    "            ))\n",
    "\n",
    "            # Flatten the list of keywords and count occurrences\n",
    "            keywords_flat = df['keywords'].explode()\n",
    "            keywords_flat = keywords_flat.apply(lambda x: x[0] if isinstance(x, (list, tuple)) and x else None).dropna()\n",
    "\n",
    "            # Count the occurrences of the keywords and take the top 10\n",
    "            keyword_counts = keywords_flat.value_counts().head(10)\n",
    "\n",
    "            # Store the result in the dictionary\n",
    "            all_keywords_by_year[n][year] = keyword_counts\n",
    "\n",
    "# Show the result for one year for each n-gram size\n",
    "for n in range(1, 6):\n",
    "    print(f\"\\nTop keywords for {n}-word phrases in 2014-2015:\")\n",
    "    print(all_keywords_by_year[n]['2014-2015'])"
   ],
   "outputs": [],
   "execution_count": null
  },
  {
   "cell_type": "code",
   "metadata": {},
   "source": [
    "# Plotting the results for each n-gram size\n",
    "for n in range(1, 6):\n",
    "    keyword_df = pd.DataFrame(all_keywords_by_year[n]).T.fillna(0) \n",
    "    keyword_df.columns = [f'Top {i+1}' for i in range(10)] \n",
    "    keyword_df = keyword_df.applymap(lambda x: x if isinstance(x, (int, float)) else 0) \n",
    "\n",
    "    plt.figure(figsize=(12, 6))\n",
    "    keyword_df.plot(kind='bar', stacked=True)\n",
    "    plt.title(f'Top Keywords for {n}-Word Phrases Over the Years')\n",
    "    plt.xlabel('Year')\n",
    "    plt.ylabel('Occurrences')\n",
    "    plt.xticks(rotation=45)\n",
    "    plt.legend(loc='upper right', title='Keywords')\n",
    "    plt.tight_layout()\n",
    "    plt.show()"
   ],
   "outputs": [],
   "execution_count": null
  }
 ],
 "metadata": {
  "kernelspec": {
   "display_name": "Python 3",
   "language": "python",
   "name": "python3"
  },
  "language_info": {
   "codemirror_mode": {
    "name": "ipython",
    "version": 3
   },
   "file_extension": ".py",
   "mimetype": "text/x-python",
   "name": "python",
   "nbconvert_exporter": "python",
   "pygments_lexer": "ipython3",
   "version": "3.12.5"
  }
 },
 "nbformat": 4,
 "nbformat_minor": 2
}
