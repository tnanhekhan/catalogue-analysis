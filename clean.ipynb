{
 "cells": [
  {
   "cell_type": "code",
   "metadata": {},
   "source": [
    "import pandas as pd\n",
    "\n",
    "\n",
    "dfs = []\n",
    "for year in range(2014, 2025):\n",
    "    data = pd.read_csv(f'./data/{year}-{year+1}.csv')\n",
    "    data['year'] = '{}-{}'.format(year, year+1)\n",
    "    dfs.append(data)\n",
    "\n",
    "df = pd.concat(dfs)\n",
    "df.to_csv('data/all.csv', index=False)\n",
    "df\n"
   ],
   "outputs": [],
   "execution_count": null
  },
  {
   "cell_type": "code",
   "metadata": {},
   "source": [
    "# print all unique values in the 'Column Name' column\n",
    "print(df['Column Name'].unique())"
   ],
   "outputs": [],
   "execution_count": null
  },
  {
   "cell_type": "code",
   "metadata": {},
   "source": [
    "courses_list = [\n",
    "    \"Software Architecture\",\n",
    "    \"Software Testing\",\n",
    "    \"Requirements Engineering\",\n",
    "    \"Preparation Masterproject Software Engineering\",\n",
    "    \"Software Process\",\n",
    "    \"Software Construction\",\n",
    "    \"Masterproject Software Engineering\",\n",
    "    \"Software Evolution\",\n",
    "    \"Software Architecture (VU)\",\n",
    "    \"Software Specification, Verification and Testing\",\n",
    "    \"Embedded Software and Systems\",\n",
    "    \"DevOps and Cloud-based Software\",\n",
    "    \"Model-based Design of Cyber-physical Systems\",\n",
    "]\n",
    "courses_df = df[df['Column Name'].isin(courses_list)]\n",
    "courses_df"
   ],
   "outputs": [],
   "execution_count": null
  },
  {
   "cell_type": "code",
   "metadata": {},
   "source": [
    "years = df['year'].unique()\n",
    "reshaped_df = pd.DataFrame(columns=courses_list, index=years)\n",
    "\n",
    "for index, row in df.iterrows():\n",
    "    for course in courses_list:\n",
    "        if course in row['Column Name']:\n",
    "            reshaped_df.at[row['year'], course] = row['Content']\n",
    "\n",
    "reshaped_df.fillna('', inplace=True)\n",
    "\n",
    "reshaped_df"
   ],
   "outputs": [],
   "execution_count": null
  },
  {
   "cell_type": "code",
   "metadata": {},
   "source": [
    "reshaped_df.to_csv('data/courses.csv')\n",
    "reshaped_df.head()"
   ],
   "outputs": [],
   "execution_count": null
  },
  {
   "cell_type": "code",
   "metadata": {},
   "source": [
    "df = pd.read_csv('data/courses.csv')\n",
    "\n",
    "df.rename(columns={'Unnamed: 0': 'Year'}, inplace=True)\n",
    "\n",
    "df.fillna('-', inplace=True)\n",
    "\n",
    "df.to_csv('data/courses.csv', index=False)\n",
    "df.head()"
   ],
   "outputs": [],
   "execution_count": null
  }
 ],
 "metadata": {
  "kernelspec": {
   "display_name": "Python 3",
   "language": "python",
   "name": "python3"
  },
  "language_info": {
   "codemirror_mode": {
    "name": "ipython",
    "version": 3
   },
   "file_extension": ".py",
   "mimetype": "text/x-python",
   "name": "python",
   "nbconvert_exporter": "python",
   "pygments_lexer": "ipython3",
   "version": "3.12.5"
  }
 },
 "nbformat": 4,
 "nbformat_minor": 2
}
