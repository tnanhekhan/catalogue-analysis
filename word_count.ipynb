{
 "cells": [
  {
   "cell_type": "code",
   "metadata": {},
   "source": [
    "import pandas as pd\n",
    "\n",
    "df = pd.read_csv('data/courses.csv')\n",
    "\n",
    "# Function to count words in a string\n",
    "def word_count(text):\n",
    "    if pd.isna(text):\n",
    "        return 0\n",
    "    return len(str(text).split())\n",
    "\n",
    "# Group by year and calculate word count for each column\n",
    "word_counts = df.groupby('Year').apply(lambda x: x.applymap(word_count).sum())\n",
    "\n",
    "print(word_counts)"
   ],
   "outputs": [],
   "execution_count": null
  },
  {
   "cell_type": "code",
   "metadata": {},
   "source": [
    "# Filter out columns with size 1\n",
    "filtered_word_counts = word_counts.loc[:, (word_counts != 1).any(axis=0)]\n",
    "\n",
    "# Calculate the average word count for each year\n",
    "average_word_counts = filtered_word_counts.mean(axis=1)\n",
    "\n",
    "print(average_word_counts)"
   ],
   "outputs": [],
   "execution_count": null
  },
  {
   "cell_type": "code",
   "metadata": {},
   "source": [
    "overall_average_word_count = average_word_counts.mean()\n",
    "print(f\"Overall Average Word Count: {overall_average_word_count}\")"
   ],
   "outputs": [],
   "execution_count": null
  },
  {
   "metadata": {},
   "cell_type": "code",
   "source": [
    "# seaborn visualization library\n",
    "import seaborn as sns\n",
    "import matplotlib\n",
    "import matplotlib.pyplot as plt\n",
    "\n",
    "# plot average word count per year using seaborn\n",
    "sns.set_style(\"whitegrid\")\n",
    "matplotlib.rcParams.update({'font.size': 14})\n",
    "plt.figure(figsize=(16, 6))\n",
    "plt.plot(average_word_counts.index, average_word_counts.values, marker='o')\n",
    "plt.axhline(y=overall_average_word_count, color='r', linestyle='--', label='Overall Average Word Count')\n",
    "plt.xlabel('Year')\n",
    "plt.ylabel('Average Word Count')\n",
    "plt.title('Average Word Count per Year')\n",
    "plt.legend()\n",
    "\n",
    "# save the plot\n",
    "plt.savefig('img/average_word_count_per_year.png')"
   ],
   "outputs": [],
   "execution_count": null
  },
  {
   "cell_type": "code",
   "metadata": {},
   "source": [
    "from sklearn.metrics.pairwise import cosine_similarity\n",
    "\n",
    "# Transpose the filtered_word_counts dataframe to have courses as rows and years as columns\n",
    "transposed_word_counts = filtered_word_counts.T\n",
    "\n",
    "# Calculate the cosine similarity matrix\n",
    "cosine_sim_matrix = cosine_similarity(transposed_word_counts)\n",
    "\n",
    "# Convert the cosine similarity matrix to a DataFrame for better readability\n",
    "cosine_sim_df = pd.DataFrame(cosine_sim_matrix, index=transposed_word_counts.index, columns=transposed_word_counts.index)\n",
    "\n",
    "print(cosine_sim_df)"
   ],
   "outputs": [],
   "execution_count": null
  }
 ],
 "metadata": {
  "kernelspec": {
   "display_name": "Python 3",
   "language": "python",
   "name": "python3"
  },
  "language_info": {
   "codemirror_mode": {
    "name": "ipython",
    "version": 3
   },
   "file_extension": ".py",
   "mimetype": "text/x-python",
   "name": "python",
   "nbconvert_exporter": "python",
   "pygments_lexer": "ipython3",
   "version": "3.12.5"
  }
 },
 "nbformat": 4,
 "nbformat_minor": 2
}
